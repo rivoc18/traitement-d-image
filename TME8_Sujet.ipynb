{
 "cells": [
  {
   "cell_type": "markdown",
   "metadata": {},
   "source": [
    "# TME 8: Split\n",
    "> Consignes: le fichier TME8_Sujet.ipynb est à déposer sur le site Moodle de l'UE https://moodle-sciences.upmc.fr/moodle-2018/course/view.php?id=4650. Si vous êtes en binôme, renommez-le en TME8_nom1_nom2.ipynb.\n",
    "\n",
    "N'oubliez pas de sauvegarder fréquemment votre notebook !! \n"
   ]
  },
  {
   "cell_type": "code",
   "execution_count": 23,
   "metadata": {},
   "outputs": [],
   "source": [
    "from PIL import Image\n",
    "from pylab import *\n",
    "\n",
    "### Données\n",
    "img_test = full((64,64),150,dtype=uint8)\n",
    "img_test[32:48,16:16+32] = 100\n",
    "img_test[8:24,40:56] = 50\n",
    "angio = array(Image.open('images/angiogra.png'))\n",
    "cam = array(Image.open('images/cameraman.png'))\n",
    "muscle = array(Image.open('images/muscle.png'))\n",
    "prisme = array(Image.open('images/prisme.png'))\n",
    "seiche = array(Image.open('images/seiche.png'))\n",
    "\n",
    "### Fonction d'affichage\n",
    "def affichage_14(affichages,titres=None):\n",
    "    \"\"\" list[Array]*list[str] -> NoneType\n",
    "    Dffectue entre 1 et 4 affichages avec leurs titres, pour des images ou courbes\n",
    "    \n",
    "    Paramètres :\n",
    "      - liste des affichages (entre 1 et 4)\n",
    "      - liste des titres (entre 1 et 4, autant que de affichages), optionnelle    \n",
    "    \"\"\"\n",
    "    \n",
    "    if not type(affichages) == type([]):\n",
    "        affichages = [affichages]\n",
    "        \n",
    "    if titres is None:\n",
    "        titres = ['',]*len(affichages)\n",
    "        \n",
    "    if not type(titres) == type([]):\n",
    "        titres = [titres]\n",
    "    \n",
    "    nb_affichages = len(affichages)\n",
    "    if nb_affichages >4 or nb_affichages < 1 :\n",
    "        raise ValueError('affichage_14 nécéssite 1 à 4 entrées en paramètre')        \n",
    "        \n",
    "    if nb_affichages != len(titres):\n",
    "        raise ValueError('affichage_14 nécéssite autant de titres que d\\'affichages')\n",
    "        \n",
    "    courbes = False\n",
    "    for i in range(0,nb_affichages):\n",
    "        s = subplot(101+10*nb_affichages+i)\n",
    "        s.set_title(titres[i])\n",
    "        if len(affichages[i].shape)==2 and affichages[i].shape[0] > 1 and affichages[i].shape[1] > 1:\n",
    "            # on affiche une image\n",
    "            s.imshow(affichages[i], cmap=\"gray\",interpolation='nearest', aspect='equal')\n",
    "        else :\n",
    "            # il s'agit d'une seule ligne, à afficher comme une courbe\n",
    "            plot(affichages[i])\n",
    "            courbes=True\n",
    "\n",
    "    agrandissement_h = nb_affichages\n",
    "    agrandissement_v = nb_affichages*2 if courbes else nb_affichages\n",
    "    params = gcf()\n",
    "    plSize = params.get_size_inches()\n",
    "    params.set_size_inches( (plSize[0]*agrandissement_v, plSize[1]*agrandissement_h) )\n",
    "    show()\n",
    "\n"
   ]
  },
  {
   "cell_type": "markdown",
   "metadata": {},
   "source": [
    "## Exercice 1\n",
    "\n",
    "Question 1: \n",
    "Écrire la fonction récursive ``split()`` vue en TD. Elle prend en entrée l'image, une région, un prédicat, et un nombre variable d'arguments. La région est de type formel Python ```Bloc``` défini par :\n",
    "```python\n",
    "type Bloc = tuple[int**4]\n",
    "```\n",
    "La fonction ``split()`` retourne un arbre 4-aire de type formel Python, défini récursivement par:\n",
    "```python\n",
    "type 4-aire = list[(4-aire**4|Bloc)] \n",
    "```\n",
    "Le prédicat est une fonction Python de signature:\n",
    "```python\n",
    "Array*Bloc*...->bool\n",
    "```\n",
    "Elle peut prendre un nombre variable de paramètres qui correspond aux paramètres du prédicat.\n"
   ]
  },
  {
   "cell_type": "code",
   "execution_count": 24,
   "metadata": {},
   "outputs": [],
   "source": [
    "def split(I,R,pred,*args):\n",
    "    \"\"\" Array*Bloc*(Array*Bloc*...->bool)*... -> 4-aire\n",
    "        Découpage de I en arbre 4-aire sur un critère d'écart-type minimal\n",
    "    \"\"\"\n",
    "    x,y,n,m=R\n",
    "    #print(predsplit1(I,R,*args))\n",
    "    if( predsplit1(I,R,*args) and n>2 and m>2):\n",
    "        NO=split(I,(x,y,n//2,m//2),pred,*args)\n",
    "        NE=split(I,(x,y+m//2,n//2,m//2),pred,*args)\n",
    "        SO=split(I,(x+n//2,y,n//2,m//2),pred,*args)\n",
    "        SE=split(I,(x+n//2,y+m//2,n//2,m//2),pred,*args)\n",
    "        return [NO,NE,SO,SE]\n",
    "    \n",
    "    else:\n",
    "        return [R]\n",
    "    \n",
    "    "
   ]
  },
  {
   "cell_type": "markdown",
   "metadata": {},
   "source": [
    "Question 2:\n",
    "Écrire la fonction ```predsplit1(I,B,*args)``` de signature :\n",
    "```python\n",
    "Array*Bloc*... -> bool\n",
    "```\n",
    "qui retourne True si l'écart-type de l'image ``I`` calculé sur la région ``B`` est plus grand que la valeur du premier argument de ``*args`` (on y accède simplement par ``*args[0]``)."
   ]
  },
  {
   "cell_type": "code",
   "execution_count": 25,
   "metadata": {},
   "outputs": [],
   "source": [
    "def predsplit1(I,R,*args):\n",
    "    \"\"\" Array*Bloc*... -> bool\n",
    "    \"\"\" \n",
    "    x,y,n,m=R\n",
    "    #print(R)\n",
    "    #print(I[x:x+n,y:y+m].std())\n",
    "    return I[x:x+n,y:y+m].std()>args[0]\n",
    " "
   ]
  },
  {
   "cell_type": "markdown",
   "metadata": {},
   "source": [
    "Question 3: Écrire la fonction ``splitprof(L)`` qui réaliste un parcours (récursif) en profondeur de l'arbre 4-aire passé en paramètre. La fonction retourne la liste des feuilles de ``L``, soit une liste de bloc."
   ]
  },
  {
   "cell_type": "code",
   "execution_count": 34,
   "metadata": {},
   "outputs": [],
   "source": [
    "def splitprof(L):\n",
    "    \"\"\" 4-aire -> list[Bloc]\"\"\"\n",
    "    if(len(L)==1):\n",
    "        return L[0]\n",
    "    else:\n",
    "        for l in L:\n",
    "            splitprof(l)\n"
   ]
  },
  {
   "cell_type": "markdown",
   "metadata": {},
   "source": [
    "Question 4: Tester vos codes sur l'image test ``img_test`` vue en TD. Imprimer la valeur retournée par ``split()`` ainsi que celle retournée par ``profsplit()``. "
   ]
  },
  {
   "cell_type": "code",
   "execution_count": 35,
   "metadata": {
    "scrolled": true
   },
   "outputs": [
    {
     "name": "stdout",
     "output_type": "stream",
     "text": [
      "[[(0, 0, 31, 31)], [[[(0, 31, 7, 7)], [(0, 38, 7, 7)], [(7, 31, 7, 7)], [[[(7, 38, 1, 1)], [(7, 39, 1, 1)], [(8, 38, 1, 1)], [(8, 39, 1, 1)]], [[(7, 41, 1, 1)], [(7, 42, 1, 1)], [(8, 41, 1, 1)], [(8, 42, 1, 1)]], [[(10, 38, 1, 1)], [(10, 39, 1, 1)], [(11, 38, 1, 1)], [(11, 39, 1, 1)]], [(10, 41, 3, 3)]]], [[(0, 46, 7, 7)], [(0, 53, 7, 7)], [[[(7, 46, 1, 1)], [(7, 47, 1, 1)], [(8, 46, 1, 1)], [(8, 47, 1, 1)]], [[(7, 49, 1, 1)], [(7, 50, 1, 1)], [(8, 49, 1, 1)], [(8, 50, 1, 1)]], [(10, 46, 3, 3)], [(10, 49, 3, 3)]], [[[(7, 53, 1, 1)], [(7, 54, 1, 1)], [(8, 53, 1, 1)], [(8, 54, 1, 1)]], [(7, 56, 3, 3)], [(10, 53, 3, 3)], [(10, 56, 3, 3)]]], [[(15, 31, 7, 7)], [[[(15, 38, 1, 1)], [(15, 39, 1, 1)], [(16, 38, 1, 1)], [(16, 39, 1, 1)]], [(15, 41, 3, 3)], [[(18, 38, 1, 1)], [(18, 39, 1, 1)], [(19, 38, 1, 1)], [(19, 39, 1, 1)]], [(18, 41, 3, 3)]], [(22, 31, 7, 7)], [[[(22, 38, 1, 1)], [(22, 39, 1, 1)], [(23, 38, 1, 1)], [(23, 39, 1, 1)]], [[(22, 41, 1, 1)], [(22, 42, 1, 1)], [(23, 41, 1, 1)], [(23, 42, 1, 1)]], [(25, 38, 3, 3)], [(25, 41, 3, 3)]]], [[(15, 46, 7, 7)], [[(15, 53, 3, 3)], [(15, 56, 3, 3)], [(18, 53, 3, 3)], [(18, 56, 3, 3)]], [[[(22, 46, 1, 1)], [(22, 47, 1, 1)], [(23, 46, 1, 1)], [(23, 47, 1, 1)]], [[(22, 49, 1, 1)], [(22, 50, 1, 1)], [(23, 49, 1, 1)], [(23, 50, 1, 1)]], [(25, 46, 3, 3)], [(25, 49, 3, 3)]], [[[(22, 53, 1, 1)], [(22, 54, 1, 1)], [(23, 53, 1, 1)], [(23, 54, 1, 1)]], [(22, 56, 3, 3)], [(25, 53, 3, 3)], [(25, 56, 3, 3)]]]], [[(31, 0, 15, 15)], [[[[(31, 15, 1, 1)], [(31, 16, 1, 1)], [(32, 15, 1, 1)], [(32, 16, 1, 1)]], [[(31, 18, 1, 1)], [(31, 19, 1, 1)], [(32, 18, 1, 1)], [(32, 19, 1, 1)]], [[(34, 15, 1, 1)], [(34, 16, 1, 1)], [(35, 15, 1, 1)], [(35, 16, 1, 1)]], [(34, 18, 3, 3)]], [[[(31, 22, 1, 1)], [(31, 23, 1, 1)], [(32, 22, 1, 1)], [(32, 23, 1, 1)]], [[(31, 25, 1, 1)], [(31, 26, 1, 1)], [(32, 25, 1, 1)], [(32, 26, 1, 1)]], [(34, 22, 3, 3)], [(34, 25, 3, 3)]], [[[(38, 15, 1, 1)], [(38, 16, 1, 1)], [(39, 15, 1, 1)], [(39, 16, 1, 1)]], [(38, 18, 3, 3)], [[(41, 15, 1, 1)], [(41, 16, 1, 1)], [(42, 15, 1, 1)], [(42, 16, 1, 1)]], [(41, 18, 3, 3)]], [(38, 22, 7, 7)]], [(46, 0, 15, 15)], [[[[(46, 15, 1, 1)], [(46, 16, 1, 1)], [(47, 15, 1, 1)], [(47, 16, 1, 1)]], [[(46, 18, 1, 1)], [(46, 19, 1, 1)], [(47, 18, 1, 1)], [(47, 19, 1, 1)]], [(49, 15, 3, 3)], [(49, 18, 3, 3)]], [[[(46, 22, 1, 1)], [(46, 23, 1, 1)], [(47, 22, 1, 1)], [(47, 23, 1, 1)]], [[(46, 25, 1, 1)], [(46, 26, 1, 1)], [(47, 25, 1, 1)], [(47, 26, 1, 1)]], [(49, 22, 3, 3)], [(49, 25, 3, 3)]], [(53, 15, 7, 7)], [(53, 22, 7, 7)]]], [[[[[(31, 31, 1, 1)], [(31, 32, 1, 1)], [(32, 31, 1, 1)], [(32, 32, 1, 1)]], [[(31, 34, 1, 1)], [(31, 35, 1, 1)], [(32, 34, 1, 1)], [(32, 35, 1, 1)]], [(34, 31, 3, 3)], [(34, 34, 3, 3)]], [[[(31, 38, 1, 1)], [(31, 39, 1, 1)], [(32, 38, 1, 1)], [(32, 39, 1, 1)]], [[(31, 41, 1, 1)], [(31, 42, 1, 1)], [(32, 41, 1, 1)], [(32, 42, 1, 1)]], [(34, 38, 3, 3)], [(34, 41, 3, 3)]], [(38, 31, 7, 7)], [(38, 38, 7, 7)]], [[[[(31, 46, 1, 1)], [(31, 47, 1, 1)], [(32, 46, 1, 1)], [(32, 47, 1, 1)]], [(31, 49, 3, 3)], [[(34, 46, 1, 1)], [(34, 47, 1, 1)], [(35, 46, 1, 1)], [(35, 47, 1, 1)]], [(34, 49, 3, 3)]], [(31, 53, 7, 7)], [[[(38, 46, 1, 1)], [(38, 47, 1, 1)], [(39, 46, 1, 1)], [(39, 47, 1, 1)]], [(38, 49, 3, 3)], [[(41, 46, 1, 1)], [(41, 47, 1, 1)], [(42, 46, 1, 1)], [(42, 47, 1, 1)]], [(41, 49, 3, 3)]], [(38, 53, 7, 7)]], [[[[(46, 31, 1, 1)], [(46, 32, 1, 1)], [(47, 31, 1, 1)], [(47, 32, 1, 1)]], [[(46, 34, 1, 1)], [(46, 35, 1, 1)], [(47, 34, 1, 1)], [(47, 35, 1, 1)]], [(49, 31, 3, 3)], [(49, 34, 3, 3)]], [[[(46, 38, 1, 1)], [(46, 39, 1, 1)], [(47, 38, 1, 1)], [(47, 39, 1, 1)]], [[(46, 41, 1, 1)], [(46, 42, 1, 1)], [(47, 41, 1, 1)], [(47, 42, 1, 1)]], [(49, 38, 3, 3)], [(49, 41, 3, 3)]], [(53, 31, 7, 7)], [(53, 38, 7, 7)]], [[[[(46, 46, 1, 1)], [(46, 47, 1, 1)], [(47, 46, 1, 1)], [(47, 47, 1, 1)]], [(46, 49, 3, 3)], [(49, 46, 3, 3)], [(49, 49, 3, 3)]], [(46, 53, 7, 7)], [(53, 46, 7, 7)], [(53, 53, 7, 7)]]]]\n",
      "None\n"
     ]
    }
   ],
   "source": [
    "Bloc = (0,0,len(img_test)-1,len(img_test)-1)\n",
    "pred=predsplit1(img_test,Bloc,1)\n",
    "print(split(img_test,Bloc,pred,1))\n",
    "print(splitprof(split(img_test,Bloc,pred,1)))\n",
    "\n"
   ]
  },
  {
   "cell_type": "markdown",
   "metadata": {},
   "source": [
    "Question 4: Écrire la fonction ```splitdraw(L,I)``` qui prend en paramètre une liste de bloc et une image et retourne une image dont les bords de chaque éléments de ``L`` ont été dessiné en rouge. Indication: l'image retournée est une hypermatrice de dimension 3, la troisième dimension a une taille de 3 et correspond aux composantes rouge, verte et bleue d'une image RGB. Tester son bon fonctionnement sur l'exemple précédent.\n"
   ]
  },
  {
   "cell_type": "code",
   "execution_count": null,
   "metadata": {},
   "outputs": [],
   "source": [
    "def splitdraw(LL,I):\n",
    "    \"\"\" list[Bloc]*Array -> Array\n",
    "        parcours de la liste dessin des régions \n",
    "    \"\"\"\n"
   ]
  },
  {
   "cell_type": "markdown",
   "metadata": {},
   "source": [
    "Question 5: Ajouter un bruit gaussien sur l'image ``img_test`` d'écart-type 5. Recalculer un découpage 4-aire sur l'image bruitée en ajustant le seuil de façon à obtenir le même résultat que dans la question précédente. Quelle valeur de seuil a-t-il fallut choisir ? Cela vous semble-t-il cohérent ?\n",
    "\n",
    "Indication: utiliser la fonction Numpy ``random.randn()`` qui génère des valeurs aléatoires tirées selon une loi normale (loi gaussienne de moyenne nulle et de variance 1). Pour obtenir des réalisations d'une gaussienne d'écart type $\\sigma$, il suffit de faire des tirages d'une loi normale, multipliés par $\\sigma$. "
   ]
  },
  {
   "cell_type": "code",
   "execution_count": null,
   "metadata": {},
   "outputs": [],
   "source": [
    "from numpy import random\n",
    "\n"
   ]
  },
  {
   "cell_type": "markdown",
   "metadata": {},
   "source": [
    "# Exercice 2\n",
    "Question 1:\n",
    "Expérimenter l'algorithme de split sur les 4 images naturelles fournie. Pour chaque image essayer de trouver le seuil qui vous semble visuellement le meilleur. Afficher le nombre de bloc obtenus après découpage."
   ]
  },
  {
   "cell_type": "code",
   "execution_count": 84,
   "metadata": {
    "scrolled": true
   },
   "outputs": [
    {
     "data": {
      "text/plain": [
       "array([[150, 150, 150, ..., 150, 150, 150],\n",
       "       [150, 150, 150, ..., 150, 150, 150],\n",
       "       [150, 150, 150, ..., 150, 150, 150],\n",
       "       ...,\n",
       "       [150, 150, 150, ..., 150, 150, 150],\n",
       "       [150, 150, 150, ..., 150, 150, 150],\n",
       "       [150, 150, 150, ..., 150, 150, 150]], dtype=uint8)"
      ]
     },
     "execution_count": 84,
     "metadata": {},
     "output_type": "execute_result"
    }
   ],
   "source": []
  },
  {
   "cell_type": "markdown",
   "metadata": {},
   "source": [
    "Question 2 (bonus): proposer un critère de découpage alternatif. Par exemple, un critère basé sur des contours ou un autre. Le critère peut être adapté à chaque type d'image.\n"
   ]
  },
  {
   "cell_type": "code",
   "execution_count": null,
   "metadata": {},
   "outputs": [],
   "source": []
  }
 ],
 "metadata": {
  "kernelspec": {
   "display_name": "Python 3",
   "language": "python",
   "name": "python3"
  },
  "language_info": {
   "codemirror_mode": {
    "name": "ipython",
    "version": 3
   },
   "file_extension": ".py",
   "mimetype": "text/x-python",
   "name": "python",
   "nbconvert_exporter": "python",
   "pygments_lexer": "ipython3",
   "version": "3.7.2"
  }
 },
 "nbformat": 4,
 "nbformat_minor": 2
}
