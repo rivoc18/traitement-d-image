{
 "cells": [
  {
   "cell_type": "markdown",
   "metadata": {},
   "source": [
    "# TME 9: Merge\n",
    "> Consignes: le fichier TME8_Sujet.ipynb est à déposer sur le site Moodle de l'UE https://moodle-sciences.upmc.fr/moodle-2018/course/view.php?id=4650. Si vous êtes en binôme, renommez-le en TME8_nom1_nom2.ipynb.\n",
    "\n",
    "N'oubliez pas de sauvegarder fréquemment votre notebook !!\n",
    "\n",
    "## Données et codes utiles au TME"
   ]
  },
  {
   "cell_type": "code",
   "execution_count": 9,
   "metadata": {},
   "outputs": [],
   "source": [
    "from PIL import Image\n",
    "from pylab import *\n",
    "\n",
    "### Données\n",
    "img_test = full((64,64),150,dtype=uint8)\n",
    "img_test[32:48,16:16+32] = 100\n",
    "img_test[8:24,40:56] = 50\n",
    "angio = array(Image.open('images/angiogra.png'))\n",
    "cam = array(Image.open('images/cameraman.png'))\n",
    "muscle = array(Image.open('images/muscle.png'))\n",
    "prisme = array(Image.open('images/prisme.png'))\n",
    "seiche = array(Image.open('images/seiche.png'))\n",
    "\n",
    "### Fonction d'affichage\n",
    "def affichage_14(affichages,titres=None):\n",
    "    \"\"\" list[Array]*list[str] -> NoneType\n",
    "    Dffectue entre 1 et 4 affichages avec leurs titres, pour des images ou courbes\n",
    "    \n",
    "    Paramètres :\n",
    "      - liste des affichages (entre 1 et 4)\n",
    "      - liste des titres (entre 1 et 4, autant que de affichages), optionnelle    \n",
    "    \"\"\"\n",
    "    \n",
    "    if not type(affichages) == type([]):\n",
    "        affichages = [affichages]\n",
    "        \n",
    "    if titres is None:\n",
    "        titres = ['',]*len(affichages)\n",
    "        \n",
    "    if not type(titres) == type([]):\n",
    "        titres = [titres]\n",
    "    \n",
    "    nb_affichages = len(affichages)\n",
    "    if nb_affichages >4 or nb_affichages < 1 :\n",
    "        raise ValueError('affichage_14 nécéssite 1 à 4 entrées en paramètre')        \n",
    "        \n",
    "    if nb_affichages != len(titres):\n",
    "        raise ValueError('affichage_14 nécéssite autant de titres que d\\'affichages')\n",
    "        \n",
    "    courbes = False\n",
    "    for i in range(0,nb_affichages):\n",
    "        s = subplot(101+10*nb_affichages+i)\n",
    "        s.set_title(titres[i])\n",
    "        if len(affichages[i].shape)==2 and affichages[i].shape[0] > 1 and affichages[i].shape[1] > 1:\n",
    "            # on affiche une image\n",
    "            s.imshow(affichages[i], cmap=\"gray\",interpolation='nearest', aspect='equal')\n",
    "        else :\n",
    "            # il s'agit d'une seule ligne, à afficher comme une courbe\n",
    "            plot(affichages[i])\n",
    "            courbes=True\n",
    "\n",
    "    agrandissement_h = nb_affichages\n",
    "    agrandissement_v = nb_affichages*2 if courbes else nb_affichages\n",
    "    params = gcf()\n",
    "    plSize = params.get_size_inches()\n",
    "    params.set_size_inches( (plSize[0]*agrandissement_v, plSize[1]*agrandissement_h) )\n",
    "    show()\n",
    "\n"
   ]
  },
  {
   "cell_type": "markdown",
   "metadata": {},
   "source": [
    "Recopier ci-dessous le code des fonctions ``split()``, ``predsplit1()`` et ``splitprof()``\n",
    "écrites au TME 8:"
   ]
  },
  {
   "cell_type": "code",
   "execution_count": 47,
   "metadata": {},
   "outputs": [],
   "source": [
    "def split(I,R,pred,*args):\n",
    "    \"\"\" Array*Bloc*(Array*Bloc*...->bool)*... -> 4-aire\n",
    "        Découpage de I en arbre 4-aire sur un critère d'écart-type minimal\n",
    "    \"\"\"\n",
    "\n",
    "    x,y,n,m=R\n",
    "    if( predsplit1(I,R,*args) and n>2 and m>2):\n",
    "        NO=split(I,(x,y,n//2,m//2),pred,*args)\n",
    "        NE=split(I,(x,y+m//2,n//2,m//2),pred,*args)\n",
    "        SO=split(I,(x+n//2,y,n//2,m//2),pred,*args)\n",
    "        SE=split(I,(x+n//2,y+m//2,n//2,m//2),pred,*args)\n",
    "        return [NO,NE,SO,SE]\n",
    "    \n",
    "    else:\n",
    "        return [R]\n",
    "    \n",
    "\n",
    "def predsplit1(I,R,*args):\n",
    "    \"\"\" Array*Bloc*... -> bool\n",
    "    \"\"\" \n",
    "    x,y,n,m=R\n",
    "    return I[x:x+n,y:y+m].std()>args[0]\n",
    "\n",
    "def splitprof(L):\n",
    "    \"\"\" 4-aire -> list[Bloc]\"\"\"\n",
    "    if(len(L)==1):\n",
    "        return L[0]\n",
    "    else:\n",
    "        for l in L:\n",
    "            splitprof(l)\n"
   ]
  },
  {
   "cell_type": "markdown",
   "metadata": {},
   "source": [
    "## Exercice 1\n",
    "### Question 1\n",
    "Modifier la fonction ``splitprof(L)`` pour en faire une fonction ``splitprofstat(L,I)`` qui rend une liste de feuilles de l'arbre 4-aire ``L`` et telle que chaque élément de cette liste, de type ``Bloc``, est enrichi de trois scalaires, le premier étant la taille, le second la moyenne et la troisième la variance des valeurs de pixels du bloc dans l'image ``I``. Cette fonction rend alors une liste dont les éléments ont pour type formel:\n",
    "```python\n",
    "type Blocstat = tuple[int**4,int,float**2]\n",
    "```\n",
    "Les quatre premières valeurs sont celles du type ``Bloc``, la cinquième est la taille du bloc (en nombre de pixels) et les deux dernières correspondent à la moyenne et la variance calculées sur la région.\n"
   ]
  },
  {
   "cell_type": "code",
   "execution_count": 56,
   "metadata": {},
   "outputs": [],
   "source": [
    "# type Blocstat = tuple[int**4,int,float**2]\n",
    "\n",
    "def splitprofstats(L,I):\n",
    "    \"\"\" 4-aire*Array -> list[Blocstat] \"\"\"\n",
    "    \"\"\" 4-aire -> list[Bloc]\"\"\"\n",
    "    if(len(L)==1):\n",
    "        x,y,n,m=L[0]\n",
    "        return (L[0],((n-x)*(m-y)),mean((I[x:x+n,y:y+m])),var((I[x:x+n,y:y+m])))\n",
    "    else:\n",
    "        for l in L:\n",
    "            splitprofstats(l,I)\n"
   ]
  },
  {
   "cell_type": "markdown",
   "metadata": {},
   "source": [
    "### Question 2\n",
    "Dans la suite du TME, on considère le type formel:\n",
    "```python\n",
    "type Region = list[Blocstat]\n",
    "```\n",
    "Une région, comme vu au TME, est donc une liste de blocs. Écrire le prédicat de fusion ``predmerge(b,R,*args)`` vu en TD. Cette fonction retourne ```True``` si le bloc ``b`` doit fusionner dans la région ``R``. Si telle est le cas, alors le premier élément de la liste ``R`` voit ses statistiques modifiées: elles décrivent celles de l'ensemble des blocs de la région ainsi fusionnée."
   ]
  },
  {
   "cell_type": "code",
   "execution_count": 53,
   "metadata": {},
   "outputs": [],
   "source": [
    "def predmerge(b,R,seuil):\n",
    "    \"\"\" Blocstat*Region*... -> bool \n",
    "        Si fusion, R[0] est modifié\n",
    "    \"\"\"\n",
    "    x1,y1,w1,h1,n1,u1,s1_2=b\n",
    "    x2,y2,w2,h2,n2,u2,s2_2=R[0]\n",
    "    n=n1+n2\n",
    "    u=(((n1*u1)+(n2*u2)))/n\n",
    "    s_2=((n1*s1_2)+(n2*s2_2)+(n1*u1**2)+(n2*u2**2))/n-u**2\n",
    "    if s_2<seuil:\n",
    "        R[0]=x2,y2,w2,h2,b,u,s_2\n",
    "        return true\n",
    "    return false\n"
   ]
  },
  {
   "cell_type": "markdown",
   "metadata": {},
   "source": [
    "### Question 3\n",
    "Implémenter les fonctions ```estdans()```, ```sontvoisins()```, ```voisins()``` et finalement ```merge()``` vues en TD."
   ]
  },
  {
   "cell_type": "code",
   "execution_count": 58,
   "metadata": {},
   "outputs": [],
   "source": [
    "def estdans(x,y,a):\n",
    "    \"\"\" int*int*Blocstat -> bool \n",
    "        Teste si (x,y) est dans a \n",
    "    \"\"\"\n",
    "    return x>=a.x and y>= a.y and x<(a.x+a.w) and y<(a.y+a.h)\n",
    "\n",
    "def sontvoisins(a,b):\n",
    "    \"\"\" Blocstat**2 -> bool\n",
    "        Teste si a et b sont voisins\n",
    "    \"\"\"\n",
    "    xa,ya,wa,ha=a\n",
    "    xb,yb,wb,h=b\n",
    "    if (wa>wb) and (ha>hb):\n",
    "        (a,b)=(b,a)\n",
    "    xcentre=xa+(wa//2)\n",
    "    ycentre=ya+(ha//2)\n",
    "    return (estdans(xcentre-wa,ycentre,b)\n",
    "           or estdans(xcentre+wa,ycentre,b)\n",
    "           or estdans(xcentre,ycentre-ha,b)\n",
    "           or estdans(xcentre,ycentre+ha,b))\n",
    "def voisins(b,K):\n",
    "    \"\"\" Blocstat*list[Blocstat]->list[Blocstat]\n",
    "        retourne la liste des elements de K voisins de b\n",
    "    \"\"\"\n",
    "    N=[]\n",
    "    for n in k:\n",
    "        if(sontvoisins(b,n)):\n",
    "            N.append(n)\n",
    "    return n;\n",
    "\n",
    "# type Region = list[Blocstat]\n",
    "\n",
    "def merge(L,I,pred,*args):\n",
    "    \"\"\" 4-aire*Array*(Blocstat*Region*...->bool) -> list[Region]\n",
    "        Fusionne les feuilles de S en une liste de régions\n",
    "    \"\"\"\n",
    "    K=[]\n",
    "    for x,y,n,m in L:\n",
    "        K.append(x,y,n,m,n*m,u,s_2)\n",
    "    L=[]\n",
    "    while(len(h)>0):\n",
    "        b=K[0]\n",
    "        K=K[1]\n",
    "        R=[b]\n",
    "        N=voisins(b,K)\n",
    "        while(len[N]>0):\n",
    "            bi=N[0]\n",
    "            N=N[1:]\n",
    "            if(predmerge(bi,R,seuil)):\n",
    "                K.remove(bi)\n",
    "                R.append(bi)\n",
    "                for j in voisins (bi,K):\n",
    "                    if not j in N:\n",
    "                        N.append(j)\n",
    "        L.append(R)\n",
    "    return L\n"
   ]
  },
  {
   "cell_type": "markdown",
   "metadata": {},
   "source": [
    "### Question 4\n",
    "Faire la mise au point des fonctions précédentes à l'aide de l'image ``img_test``."
   ]
  },
  {
   "cell_type": "code",
   "execution_count": 59,
   "metadata": {
    "scrolled": false
   },
   "outputs": [
    {
     "ename": "TypeError",
     "evalue": "'NoneType' object is not iterable",
     "output_type": "error",
     "traceback": [
      "\u001b[1;31m---------------------------------------------------------------------------\u001b[0m",
      "\u001b[1;31mTypeError\u001b[0m                                 Traceback (most recent call last)",
      "\u001b[1;32m<ipython-input-59-db828cb030ae>\u001b[0m in \u001b[0;36m<module>\u001b[1;34m\u001b[0m\n\u001b[0;32m      1\u001b[0m \u001b[0mBloc\u001b[0m \u001b[1;33m=\u001b[0m \u001b[1;33m(\u001b[0m\u001b[1;36m0\u001b[0m\u001b[1;33m,\u001b[0m\u001b[1;36m0\u001b[0m\u001b[1;33m,\u001b[0m\u001b[0mlen\u001b[0m\u001b[1;33m(\u001b[0m\u001b[0mimg_test\u001b[0m\u001b[1;33m)\u001b[0m\u001b[1;33m-\u001b[0m\u001b[1;36m1\u001b[0m\u001b[1;33m,\u001b[0m\u001b[0mlen\u001b[0m\u001b[1;33m(\u001b[0m\u001b[0mimg_test\u001b[0m\u001b[1;33m)\u001b[0m\u001b[1;33m-\u001b[0m\u001b[1;36m1\u001b[0m\u001b[1;33m)\u001b[0m\u001b[1;33m\u001b[0m\u001b[1;33m\u001b[0m\u001b[0m\n\u001b[0;32m      2\u001b[0m \u001b[0mpred\u001b[0m\u001b[1;33m=\u001b[0m\u001b[0mpredsplit1\u001b[0m\u001b[1;33m(\u001b[0m\u001b[0mimg_test\u001b[0m\u001b[1;33m,\u001b[0m\u001b[0mBloc\u001b[0m\u001b[1;33m,\u001b[0m\u001b[1;36m1\u001b[0m\u001b[1;33m)\u001b[0m\u001b[1;33m\u001b[0m\u001b[1;33m\u001b[0m\u001b[0m\n\u001b[1;32m----> 3\u001b[1;33m \u001b[0mmerge\u001b[0m\u001b[1;33m(\u001b[0m\u001b[0msplitprofstats\u001b[0m\u001b[1;33m(\u001b[0m\u001b[0msplit\u001b[0m\u001b[1;33m(\u001b[0m\u001b[0mimg_test\u001b[0m\u001b[1;33m,\u001b[0m\u001b[0mBloc\u001b[0m\u001b[1;33m,\u001b[0m\u001b[0mpred\u001b[0m\u001b[1;33m,\u001b[0m\u001b[1;36m1\u001b[0m\u001b[1;33m)\u001b[0m\u001b[1;33m,\u001b[0m\u001b[0mimg_test\u001b[0m\u001b[1;33m)\u001b[0m\u001b[1;33m,\u001b[0m\u001b[0mimg_test\u001b[0m\u001b[1;33m,\u001b[0m\u001b[0mpred\u001b[0m\u001b[1;33m)\u001b[0m\u001b[1;33m\u001b[0m\u001b[1;33m\u001b[0m\u001b[0m\n\u001b[0m",
      "\u001b[1;32m<ipython-input-58-fd331f25caa1>\u001b[0m in \u001b[0;36mmerge\u001b[1;34m(L, I, pred, *args)\u001b[0m\n\u001b[0;32m     36\u001b[0m     \"\"\"\n\u001b[0;32m     37\u001b[0m     \u001b[0mK\u001b[0m\u001b[1;33m=\u001b[0m\u001b[1;33m[\u001b[0m\u001b[1;33m]\u001b[0m\u001b[1;33m\u001b[0m\u001b[1;33m\u001b[0m\u001b[0m\n\u001b[1;32m---> 38\u001b[1;33m     \u001b[1;32mfor\u001b[0m \u001b[0mx\u001b[0m\u001b[1;33m,\u001b[0m\u001b[0my\u001b[0m\u001b[1;33m,\u001b[0m\u001b[0mn\u001b[0m\u001b[1;33m,\u001b[0m\u001b[0mm\u001b[0m \u001b[1;32min\u001b[0m \u001b[0mL\u001b[0m\u001b[1;33m:\u001b[0m\u001b[1;33m\u001b[0m\u001b[1;33m\u001b[0m\u001b[0m\n\u001b[0m\u001b[0;32m     39\u001b[0m         \u001b[0mK\u001b[0m\u001b[1;33m.\u001b[0m\u001b[0mappend\u001b[0m\u001b[1;33m(\u001b[0m\u001b[0mx\u001b[0m\u001b[1;33m,\u001b[0m\u001b[0my\u001b[0m\u001b[1;33m,\u001b[0m\u001b[0mn\u001b[0m\u001b[1;33m,\u001b[0m\u001b[0mm\u001b[0m\u001b[1;33m,\u001b[0m\u001b[0mn\u001b[0m\u001b[1;33m*\u001b[0m\u001b[0mm\u001b[0m\u001b[1;33m,\u001b[0m\u001b[0mu\u001b[0m\u001b[1;33m,\u001b[0m\u001b[0ms_2\u001b[0m\u001b[1;33m)\u001b[0m\u001b[1;33m\u001b[0m\u001b[1;33m\u001b[0m\u001b[0m\n\u001b[0;32m     40\u001b[0m     \u001b[0mL\u001b[0m\u001b[1;33m=\u001b[0m\u001b[1;33m[\u001b[0m\u001b[1;33m]\u001b[0m\u001b[1;33m\u001b[0m\u001b[1;33m\u001b[0m\u001b[0m\n",
      "\u001b[1;31mTypeError\u001b[0m: 'NoneType' object is not iterable"
     ]
    }
   ],
   "source": [
    "Bloc = (0,0,len(img_test)-1,len(img_test)-1)\n",
    "pred=predsplit1(img_test,Bloc,1)\n",
    "merge(splitprofstats(split(img_test,Bloc,pred,1),img_test),img_test,pred)\n"
   ]
  },
  {
   "cell_type": "markdown",
   "metadata": {},
   "source": [
    "### Question 5\n",
    "Écrire une fonction ``regions(LR,shape)`` qui prend une liste de régions telle que rendu par la fonction ``merge()`` et rend une image des régions. Chaque région sera colorée avec le niveau de gris correspondant à la moyenne de la région. Le paramètre ``shape`` donne la taille de l'image à produire. Tester la fonction sur l'exemple précédent."
   ]
  },
  {
   "cell_type": "code",
   "execution_count": null,
   "metadata": {},
   "outputs": [],
   "source": [
    "def regions(LR,shape):\n",
    "    \"\"\" list[Region] -> Array \"\"\"\n",
    "    buf = zeros(shape,dtype=uint8)\n",
    "    for R in LR:\n",
    "        x,y,n,m,s,mu,v=R[0]\n",
    "        for b in R:\n",
    "            x,y,n,m,s,t,v=b\n",
    "            buf[x:x+n,y:y+m] = int(mu)\n",
    "    return buf\n"
   ]
  },
  {
   "cell_type": "markdown",
   "metadata": {},
   "source": [
    "## Exercice 2: expérimentation\n",
    "### Question 1:\n",
    "Tester la fonction ``merge()`` sur les images ``angio``, ``cam``, ``muscle``, ``prisme`` et ``seiche``."
   ]
  },
  {
   "cell_type": "code",
   "execution_count": 11,
   "metadata": {
    "scrolled": false
   },
   "outputs": [
    {
     "data": {
      "text/plain": [
       "4.666666666666667"
      ]
     },
     "execution_count": 11,
     "metadata": {},
     "output_type": "execute_result"
    }
   ],
   "source": [
    "L=()\n",
    "mean((4,5,5))"
   ]
  },
  {
   "cell_type": "markdown",
   "metadata": {},
   "source": [
    "### Question 2 (bonus):\n",
    "Utiliser un critère de découpage alternatif, par exemple celui proposé en cours: on fusionne qui la variance de la région fusionné est plus petite que celle de la région non fusionnée. Tester sur les images."
   ]
  },
  {
   "cell_type": "code",
   "execution_count": null,
   "metadata": {},
   "outputs": [],
   "source": []
  },
  {
   "cell_type": "markdown",
   "metadata": {},
   "source": [
    "### Question 3 (bonus):\n",
    "La fusion dépend de la façon dont on visite les régions. On peut alors faire un tri des feuilles de l'arbre 4-aire, par exemple, des blocs les plus gros aux plus petits, ou le contraire (utiliser la fonction Python ``sorted()``). La même question peut se poser lorsqu'on calcule l'ensemble des voisins de la région que l'on fusionne. Faut-il les trier ? Si oui, selon quel critère ? leur taille ? leur proximité ? Evidemment il n'y a pas de réponse universelle mais adaptée à chaque type de problème. Faites quelques tests pour voir l'influence de ces tris sur le résultat de la fusion."
   ]
  },
  {
   "cell_type": "code",
   "execution_count": null,
   "metadata": {},
   "outputs": [],
   "source": []
  }
 ],
 "metadata": {
  "kernelspec": {
   "display_name": "Python 3",
   "language": "python",
   "name": "python3"
  },
  "language_info": {
   "codemirror_mode": {
    "name": "ipython",
    "version": 3
   },
   "file_extension": ".py",
   "mimetype": "text/x-python",
   "name": "python",
   "nbconvert_exporter": "python",
   "pygments_lexer": "ipython3",
   "version": "3.7.2"
  }
 },
 "nbformat": 4,
 "nbformat_minor": 2
}
